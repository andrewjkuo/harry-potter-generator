{
 "cells": [
  {
   "cell_type": "code",
   "execution_count": 1,
   "metadata": {},
   "outputs": [
    {
     "name": "stdout",
     "output_type": "stream",
     "text": [
      "WARNING:tensorflow:\n",
      "The TensorFlow contrib module will not be included in TensorFlow 2.0.\n",
      "For more information, please see:\n",
      "  * https://github.com/tensorflow/community/blob/master/rfcs/20180907-contrib-sunset.md\n",
      "  * https://github.com/tensorflow/addons\n",
      "  * https://github.com/tensorflow/io (for I/O related ops)\n",
      "If you depend on functionality not listed there, please file an issue.\n",
      "\n"
     ]
    }
   ],
   "source": [
    "import gpt_2_simple as gpt2"
   ]
  },
  {
   "cell_type": "markdown",
   "metadata": {},
   "source": [
    "# GPT-2 Model\n",
    "**Must use Tensorflow <= 1.15. Should probably use a virtual environment**\n",
    "\n",
    "This notebook contains code to finetune the GPT-2 model on the Harry Potter books. It uses the fantastic gpt_2_simple package from Max Woolf."
   ]
  },
  {
   "cell_type": "code",
   "execution_count": 2,
   "metadata": {},
   "outputs": [],
   "source": [
    "sess = gpt2.start_tf_sess()"
   ]
  },
  {
   "cell_type": "markdown",
   "metadata": {},
   "source": [
    "### Model Finetuning"
   ]
  },
  {
   "cell_type": "code",
   "execution_count": 2,
   "metadata": {},
   "outputs": [
    {
     "name": "stderr",
     "output_type": "stream",
     "text": [
      "Fetching checkpoint: 1.05Mit [00:00, 364Mit/s]                                                      \n",
      "Fetching encoder.json: 1.05Mit [00:00, 6.38Mit/s]                                                   \n",
      "Fetching hparams.json: 1.05Mit [00:00, 467Mit/s]                                                    \n",
      "Fetching model.ckpt.data-00000-of-00001: 498Mit [01:21, 6.09Mit/s]                                  \n",
      "Fetching model.ckpt.index: 1.05Mit [00:00, 369Mit/s]                                                \n",
      "Fetching model.ckpt.meta: 1.05Mit [00:00, 1.90Mit/s]                                                \n",
      "Fetching vocab.bpe: 1.05Mit [00:00, 4.63Mit/s]                                                      \n"
     ]
    }
   ],
   "source": [
    "# download pre-trained gpt2 model (only needs to be done once)\n",
    "gpt2.download_gpt2(model_name='124M')"
   ]
  },
  {
   "cell_type": "code",
   "execution_count": null,
   "metadata": {
    "scrolled": true
   },
   "outputs": [],
   "source": [
    "# finetune on Harry Potter text (WILL TAKE A LONG TIME WITHOUT A GPU)\n",
    "gpt2.finetune(\n",
    "    sess, 'texts/all_txt_raw.txt', model_name='124M', steps=1000, run_name='run1', sample_every=100, save_every=500\n",
    ")"
   ]
  },
  {
   "cell_type": "markdown",
   "metadata": {},
   "source": [
    "### Load Model From File"
   ]
  },
  {
   "cell_type": "code",
   "execution_count": 3,
   "metadata": {
    "scrolled": true
   },
   "outputs": [
    {
     "name": "stdout",
     "output_type": "stream",
     "text": [
      "Loading checkpoint checkpoint/run2/model-500\n",
      "INFO:tensorflow:Restoring parameters from checkpoint/run2/model-500\n"
     ]
    }
   ],
   "source": [
    "gpt2.load_gpt2(sess, run_name='run2')"
   ]
  },
  {
   "cell_type": "markdown",
   "metadata": {},
   "source": [
    "### Generate New Text"
   ]
  },
  {
   "cell_type": "code",
   "execution_count": 7,
   "metadata": {
    "scrolled": true
   },
   "outputs": [
    {
     "name": "stdout",
     "output_type": "stream",
     "text": [
      "\"\"You don't want this, it's all dry,\" said Ron. \"She hasn't got much\n",
      "time,\" he added quickly, \"you know, with five of us.\"\n",
      "\n",
      "\"Go on, have a pasty,\" said Harry, who had never had anything to share\n",
      "before or, indeed, anyone to share it with. It was a nice feeling,\n",
      "sitting there with Ron, eating their way through all Harry's pasties,\n",
      "cakes, and candies (the sandwiches lay forgotten).\n",
      "\n",
      "\"I thought we'd go on a date tonight,\" said Harry, \"because I'm\n",
      "famous, but I'm not. I've got a lot of friends.\"\n",
      "\n",
      "\"Yeah, but you've got a lot of friends,\" said Ron, his mouth\n",
      "shut shut. \"You've got a lot of friends, Harry.\"\n",
      "\n",
      "\"I haven't got a lot of friends,\" said Harry.\n",
      "\n",
      "\"You haven't got any, you haven't got any friends,\" said Ron. \"You\n",
      "haven't got any friends!\"\n",
      "\n",
      "\"I don't know anyone who's been in touch with him,\" said Harry.\n",
      "\n",
      "\"He's not in the library,\" said Ron. \"He's not in the Ministry.\"\n",
      "\n",
      "\"I don't know anyone who's been in touch with him,\" said Harry. \"He's not in\n",
      "the Ministry.\"\n",
      "\n",
      "\"He's not in the library,\" said Ron. \"He's not in the Ministry\n",
      "====================\n",
      "\"\"You don't want this, it's all dry,\" said Ron. \"She hasn't got much\n",
      "time,\" he added quickly, \"you know, with five of us.\"\n",
      "\n",
      "\"Go on, have a pasty,\" said Harry, who had never had anything to share\n",
      "before or, indeed, anyone to share it with. It was a nice feeling,\n",
      "sitting there with Ron, eating their way through all Harry's pasties,\n",
      "cakes, and candies (the sandwiches lay forgotten).\n",
      "\n",
      "They went back to the library and started to read.\n",
      "\n",
      "\"The Dark Lord's plan,\" said Harry, \"is to make us all look like\n",
      "little things, so that he can't see us in the face of the\n",
      "world. I can see how that would work, though. We can look like\n",
      "dementors.\"\n",
      "\n",
      "He was starting to feel sleepy. He was not feeling much like\n",
      "anybody else. He had been dreaming about it for a few hours,\n",
      "watching it happen in his dreams, and he was thinking about it\n",
      "all the time. He was thinking about the Dark Lord's plan,\n",
      "and about how he could make us look like little\n",
      "things, like giants. He was thinking about the Dark Lord's plan\n",
      "from the point of view of a person, like himself, who was trying\n",
      "to see the Dark Lord through the darkness.\n",
      "\n",
      "\"I can see that,\" said Harry, and he was glad to be sitting\n",
      "====================\n",
      "\"\"You don't want this, it's all dry,\" said Ron. \"She hasn't got much\n",
      "time,\" he added quickly, \"you know, with five of us.\"\n",
      "\n",
      "\"Go on, have a pasty,\" said Harry, who had never had anything to share\n",
      "before or, indeed, anyone to share it with. It was a nice feeling,\n",
      "sitting there with Ron, eating their way through all Harry's pasties,\n",
      "cakes, and candies (the sandwiches lay forgotten).\n",
      "\n",
      "\"I'm sure she'll be fine,\" said Harry, sitting back down. \"I don't\n",
      "think she's going to be any good, though. I mean, I've never\n",
      "been so happy in my life, it's really just been a\n",
      "fight. I mean, it's not like I've ever been happier.\"\n",
      "\n",
      "\"I suppose you're right,\" said Ron, leaning back against the wall and\n",
      "smiling, \"I've been trying to think of something to do with it all\n",
      "the time. And now it's all over.\"\n",
      "\n",
      "Harry, who had always been bothered by Ron's lack of interest in\n",
      "anything, found himself in a very odd position. He was sitting\n",
      "sitting alone in his kitchen, and he was thinking about all the\n",
      "pipes and the pipes. He was still having difficulty\n",
      "getting the pipe in the fireplace, and was also trying to make\n",
      "a noise to get the firewhisky out. He had\n",
      "====================\n",
      "\"\"You don't want this, it's all dry,\" said Ron. \"She hasn't got much\n",
      "time,\" he added quickly, \"you know, with five of us.\"\n",
      "\n",
      "\"Go on, have a pasty,\" said Harry, who had never had anything to share\n",
      "before or, indeed, anyone to share it with. It was a nice feeling,\n",
      "sitting there with Ron, eating their way through all Harry's pasties,\n",
      "cakes, and candies (the sandwiches lay forgotten).\n",
      "\n",
      "\"I've got her on my mind,\" said Harry. \"I can't believe she doesn't want\n",
      "me to stay.\"\n",
      "\n",
      "\"You're a bit late, Potter,\" said Ron, still staring at his\n",
      "sick face. \"She'll be back in a minute.\"\n",
      "\n",
      "\"She's not going to,\" said Harry, and he was not going to give Ron a\n",
      "lucky break.\n",
      "\n",
      "\"I don't know what you're going to do with her,\" said Ron. \"I'm not\n",
      "going to let her see us in the kitchen. I'm not going to let her\n",
      "follow me down the corridor. I'm going to go up the stairs\n",
      "and get back up the stairs.\"\n",
      "\n",
      "\"Okay, you're going to do that,\" said Harry, and he was sure he would\n",
      "get it right. He had not thought of anything, not about the\n",
      "opposite of what Ron was doing, but he was going to do\n",
      "====================\n",
      "\"\"You don't want this, it's all dry,\" said Ron. \"She hasn't got much\n",
      "time,\" he added quickly, \"you know, with five of us.\"\n",
      "\n",
      "\"Go on, have a pasty,\" said Harry, who had never had anything to share\n",
      "before or, indeed, anyone to share it with. It was a nice feeling,\n",
      "sitting there with Ron, eating their way through all Harry's pasties,\n",
      "cakes, and candies (the sandwiches lay forgotten).\n",
      "\n",
      "\"Come on,\" said Hermione, \"come on, come on. . . . I can't wait.\"\n",
      "\n",
      "Harry and Hermione got to their feet. They were going to have a\n",
      "little more time together, and he and Hermione had already\n",
      "concluded that they were going to be making some more changes to the\n",
      "house. The next morning, Harry and Hermione found themselves\n",
      "eating breakfast at the end of the day and were glad to have\n",
      "them back.\n",
      "\n",
      "\"You're not going to be eating that much tomorrow,\" said Hermione,\n",
      "\"Harry's got it in him to make up for the fact he's got to eat all the time\n",
      "he's been here.\"\n",
      "\n",
      "\"Yeah,\" said Harry, \"I'll be able to. . . . I can't eat all the time, I can't\n",
      "get enough. . . . But I'll be able to.\"\n",
      "\n",
      "\"I'll be able to,\" said Hermione, \"but I'll\n",
      "====================\n"
     ]
    }
   ],
   "source": [
    "prefix = \"\"\"\"\"You don't want this, it's all dry,\" said Ron. \"She hasn't got much\n",
    "time,\" he added quickly, \"you know, with five of us.\"\n",
    "\n",
    "\"Go on, have a pasty,\" said Harry, who had never had anything to share\n",
    "before or, indeed, anyone to share it with. It was a nice feeling,\n",
    "sitting there with Ron, eating their way through all Harry's pasties,\n",
    "cakes, and candies (the sandwiches lay forgotten).\n",
    "\"\"\"\n",
    "\n",
    "gpt2.generate(\n",
    "    sess, model_name='124M', run_name='run1', length=200, temperature=0.7, top_p=0.9,\n",
    "    nsamples=5, batch_size=5, prefix=prefix)"
   ]
  },
  {
   "cell_type": "code",
   "execution_count": null,
   "metadata": {},
   "outputs": [],
   "source": []
  }
 ],
 "metadata": {
  "kernelspec": {
   "display_name": "gpt2-env",
   "language": "python",
   "name": "gpt2-env"
  },
  "language_info": {
   "codemirror_mode": {
    "name": "ipython",
    "version": 3
   },
   "file_extension": ".py",
   "mimetype": "text/x-python",
   "name": "python",
   "nbconvert_exporter": "python",
   "pygments_lexer": "ipython3",
   "version": "3.6.10"
  }
 },
 "nbformat": 4,
 "nbformat_minor": 2
}
