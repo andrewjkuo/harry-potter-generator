{
 "cells": [
  {
   "cell_type": "code",
   "execution_count": null,
   "metadata": {},
   "outputs": [],
   "source": [
    "import gpt_2_simple as gpt2"
   ]
  },
  {
   "cell_type": "markdown",
   "metadata": {},
   "source": [
    "# GPT-2 Model\n",
    "**Must use Tensorflow <= 1.15. Should probably use a virtual environment**\n",
    "\n",
    "This notebook contains code to finetune the GPT-2 model on the Harry Potter books. It uses the fantastic gpt_2_simple package from Max Woolf."
   ]
  },
  {
   "cell_type": "code",
   "execution_count": null,
   "metadata": {},
   "outputs": [],
   "source": [
    "sess = gpt2.start_tf_sess()"
   ]
  },
  {
   "cell_type": "markdown",
   "metadata": {},
   "source": [
    "### Model Finetuning"
   ]
  },
  {
   "cell_type": "code",
   "execution_count": null,
   "metadata": {},
   "outputs": [],
   "source": [
    "# download pre-trained gpt2 model (only needs to be done once)\n",
    "gpt2.download_gpt2(model_name='124M')"
   ]
  },
  {
   "cell_type": "code",
   "execution_count": null,
   "metadata": {
    "scrolled": true
   },
   "outputs": [],
   "source": [
    "# finetune on Harry Potter text (WILL TAKE A LONG TIME WITHOUT A GPU)\n",
    "gpt2.finetune(\n",
    "    sess, 'texts/all_txt_raw.txt', model_name='124M', steps=1000, run_name='run1', sample_every=100, save_every=100\n",
    ")"
   ]
  },
  {
   "cell_type": "markdown",
   "metadata": {},
   "source": [
    "### Load Model From File"
   ]
  },
  {
   "cell_type": "code",
   "execution_count": null,
   "metadata": {
    "scrolled": true
   },
   "outputs": [],
   "source": [
    "gpt2.load_gpt2(sess, run_name='run1')"
   ]
  },
  {
   "cell_type": "markdown",
   "metadata": {},
   "source": [
    "### Generate New Text"
   ]
  },
  {
   "cell_type": "code",
   "execution_count": null,
   "metadata": {
    "scrolled": true
   },
   "outputs": [],
   "source": [
    "prefix = \"\"\"\"\"You don't want this, it's all dry,\" said Ron. \"She hasn't got much\n",
    "time,\" he added quickly, \"you know, with five of us.\"\n",
    "\n",
    "\"Go on, have a pasty,\" said Harry, who had never had anything to share\n",
    "before or, indeed, anyone to share it with. It was a nice feeling,\n",
    "sitting there with Ron, eating their way through all Harry's pasties,\n",
    "cakes, and candies (the sandwiches lay forgotten).\n",
    "\"\"\"\n",
    "\n",
    "gpt2.generate(\n",
    "    sess, model_name='124M', run_name='run1', length=200, temperature=0.7, top_p=0.9,\n",
    "    nsamples=5, batch_size=5, prefix=prefix)"
   ]
  }
 ],
 "metadata": {
  "kernelspec": {
   "display_name": ".venv",
   "language": "python",
   "name": "python3"
  },
  "language_info": {
   "codemirror_mode": {
    "name": "ipython",
    "version": 3
   },
   "file_extension": ".py",
   "mimetype": "text/x-python",
   "name": "python",
   "nbconvert_exporter": "python",
   "pygments_lexer": "ipython3",
   "version": "3.9.11"
  }
 },
 "nbformat": 4,
 "nbformat_minor": 2
}
